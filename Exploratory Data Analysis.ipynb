{
 "cells": [
  {
   "cell_type": "code",
   "execution_count": 1,
   "id": "3609e3aa",
   "metadata": {},
   "outputs": [],
   "source": [
    "import pandas as pd\n",
    "import numpy as np\n",
    "import random\n",
    "from plotly.offline import download_plotlyjs, init_notebook_mode, plot, iplot\n",
    "import plotly.graph_objs as go\n",
    "from collections import Counter"
   ]
  },
  {
   "cell_type": "code",
   "execution_count": 2,
   "id": "9225a2b6",
   "metadata": {},
   "outputs": [],
   "source": [
    "df = pd.read_csv(\"mitbih_test.csv\", header=None)"
   ]
  },
  {
   "cell_type": "code",
   "execution_count": 4,
   "id": "9ccedc29",
   "metadata": {},
   "outputs": [
    {
     "data": {
      "text/plain": [
       "(21894, 188)"
      ]
     },
     "execution_count": 4,
     "metadata": {},
     "output_type": "execute_result"
    }
   ],
   "source": [
    "df.shape"
   ]
  },
  {
   "cell_type": "code",
   "execution_count": 5,
   "id": "1eb93434",
   "metadata": {},
   "outputs": [
    {
     "data": {
      "text/plain": [
       "Counter({0.0: 18118, 1.0: 556, 2.0: 1448, 3.0: 162, 4.0: 1608, nan: 1, nan: 1})"
      ]
     },
     "execution_count": 5,
     "metadata": {},
     "output_type": "execute_result"
    }
   ],
   "source": [
    "Counter(df[187].values)"
   ]
  },
  {
   "cell_type": "code",
   "execution_count": 6,
   "id": "b3e453eb",
   "metadata": {},
   "outputs": [],
   "source": [
    "Y = np.array(df[187].values).astype(np.int8)\n",
    "X = np.array(df[list(range(187))].values)"
   ]
  },
  {
   "cell_type": "code",
   "execution_count": 7,
   "id": "3a1cdde4",
   "metadata": {},
   "outputs": [],
   "source": [
    "indexes = random.sample(list(range(df.shape[0])), 10)"
   ]
  },
  {
   "cell_type": "code",
   "execution_count": 8,
   "id": "1f9d5529",
   "metadata": {},
   "outputs": [],
   "source": [
    "for i in indexes:\n",
    "\n",
    "    data = [go.Scatter(\n",
    "              x=list(range(187)),\n",
    "              y=X[i, :])]\n",
    "\n",
    "    plot({\"data\": data,\n",
    "          \"layout\": {\"title\": \"Heartbeat Class : %s \"%Y[i]}}, filename='%s.html'%i)"
   ]
  },
  {
   "cell_type": "code",
   "execution_count": null,
   "id": "6ea80e74",
   "metadata": {},
   "outputs": [],
   "source": []
  }
 ],
 "metadata": {
  "kernelspec": {
   "display_name": "Python 3",
   "language": "python",
   "name": "python3"
  },
  "language_info": {
   "codemirror_mode": {
    "name": "ipython",
    "version": 3
   },
   "file_extension": ".py",
   "mimetype": "text/x-python",
   "name": "python",
   "nbconvert_exporter": "python",
   "pygments_lexer": "ipython3",
   "version": "3.8.8"
  }
 },
 "nbformat": 4,
 "nbformat_minor": 5
}
