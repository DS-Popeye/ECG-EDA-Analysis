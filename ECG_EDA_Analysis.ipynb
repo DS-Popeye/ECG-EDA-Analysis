{
 "cells": [
  {
   "cell_type": "code",
   "execution_count": 1,
   "id": "5300abf9",
   "metadata": {},
   "outputs": [],
   "source": [
    "import pandas as pd\n",
    "import numpy as np\n",
    "import seaborn as sns\n",
    "import matplotlib.pyplot as plt\n",
    "import os\n",
    "from sklearn.preprocessing import StandardScaler"
   ]
  },
  {
   "cell_type": "markdown",
   "id": "e559f884",
   "metadata": {},
   "source": [
    "# Train data"
   ]
  },
  {
   "cell_type": "code",
   "execution_count": 2,
   "id": "cdd36a9b",
   "metadata": {},
   "outputs": [
    {
     "name": "stdout",
     "output_type": "stream",
     "text": [
      "There are 1000 rows and 188 columns\n"
     ]
    }
   ],
   "source": [
    "nRowsRead = 1000\n",
    "df1 = pd.read_csv(\"mitbih_train.csv\", delimiter=',', nrows = nRowsRead)\n",
    "df1.dataframeName = 'mitbih_train.csv'\n",
    "nRow, nCol = df1.shape\n",
    "print(f'There are {nRow} rows and {nCol} columns')"
   ]
  },
  {
   "cell_type": "code",
   "execution_count": 3,
   "id": "4eb350a7",
   "metadata": {},
   "outputs": [
    {
     "data": {
      "text/html": [
       "<div>\n",
       "<style scoped>\n",
       "    .dataframe tbody tr th:only-of-type {\n",
       "        vertical-align: middle;\n",
       "    }\n",
       "\n",
       "    .dataframe tbody tr th {\n",
       "        vertical-align: top;\n",
       "    }\n",
       "\n",
       "    .dataframe thead th {\n",
       "        text-align: right;\n",
       "    }\n",
       "</style>\n",
       "<table border=\"1\" class=\"dataframe\">\n",
       "  <thead>\n",
       "    <tr style=\"text-align: right;\">\n",
       "      <th></th>\n",
       "      <th>9.779411554336547852e-01</th>\n",
       "      <th>9.264705777168273926e-01</th>\n",
       "      <th>6.813725233078002930e-01</th>\n",
       "      <th>2.450980395078659058e-01</th>\n",
       "      <th>1.544117629528045654e-01</th>\n",
       "      <th>1.911764740943908691e-01</th>\n",
       "      <th>1.519607901573181152e-01</th>\n",
       "      <th>8.578431606292724609e-02</th>\n",
       "      <th>5.882352963089942932e-02</th>\n",
       "      <th>4.901960864663124084e-02</th>\n",
       "      <th>...</th>\n",
       "      <th>0.000000000000000000e+00.79</th>\n",
       "      <th>0.000000000000000000e+00.80</th>\n",
       "      <th>0.000000000000000000e+00.81</th>\n",
       "      <th>0.000000000000000000e+00.82</th>\n",
       "      <th>0.000000000000000000e+00.83</th>\n",
       "      <th>0.000000000000000000e+00.84</th>\n",
       "      <th>0.000000000000000000e+00.85</th>\n",
       "      <th>0.000000000000000000e+00.86</th>\n",
       "      <th>0.000000000000000000e+00.87</th>\n",
       "      <th>0.000000000000000000e+00.88</th>\n",
       "    </tr>\n",
       "  </thead>\n",
       "  <tbody>\n",
       "    <tr>\n",
       "      <th>0</th>\n",
       "      <td>0.960114</td>\n",
       "      <td>0.863248</td>\n",
       "      <td>0.461538</td>\n",
       "      <td>0.196581</td>\n",
       "      <td>0.094017</td>\n",
       "      <td>0.125356</td>\n",
       "      <td>0.099715</td>\n",
       "      <td>0.088319</td>\n",
       "      <td>0.074074</td>\n",
       "      <td>0.082621</td>\n",
       "      <td>...</td>\n",
       "      <td>0.0</td>\n",
       "      <td>0.0</td>\n",
       "      <td>0.0</td>\n",
       "      <td>0.0</td>\n",
       "      <td>0.0</td>\n",
       "      <td>0.0</td>\n",
       "      <td>0.0</td>\n",
       "      <td>0.0</td>\n",
       "      <td>0.0</td>\n",
       "      <td>0.0</td>\n",
       "    </tr>\n",
       "    <tr>\n",
       "      <th>1</th>\n",
       "      <td>1.000000</td>\n",
       "      <td>0.659459</td>\n",
       "      <td>0.186486</td>\n",
       "      <td>0.070270</td>\n",
       "      <td>0.070270</td>\n",
       "      <td>0.059459</td>\n",
       "      <td>0.056757</td>\n",
       "      <td>0.043243</td>\n",
       "      <td>0.054054</td>\n",
       "      <td>0.045946</td>\n",
       "      <td>...</td>\n",
       "      <td>0.0</td>\n",
       "      <td>0.0</td>\n",
       "      <td>0.0</td>\n",
       "      <td>0.0</td>\n",
       "      <td>0.0</td>\n",
       "      <td>0.0</td>\n",
       "      <td>0.0</td>\n",
       "      <td>0.0</td>\n",
       "      <td>0.0</td>\n",
       "      <td>0.0</td>\n",
       "    </tr>\n",
       "    <tr>\n",
       "      <th>2</th>\n",
       "      <td>0.925414</td>\n",
       "      <td>0.665746</td>\n",
       "      <td>0.541436</td>\n",
       "      <td>0.276243</td>\n",
       "      <td>0.196133</td>\n",
       "      <td>0.077348</td>\n",
       "      <td>0.071823</td>\n",
       "      <td>0.060773</td>\n",
       "      <td>0.066298</td>\n",
       "      <td>0.058011</td>\n",
       "      <td>...</td>\n",
       "      <td>0.0</td>\n",
       "      <td>0.0</td>\n",
       "      <td>0.0</td>\n",
       "      <td>0.0</td>\n",
       "      <td>0.0</td>\n",
       "      <td>0.0</td>\n",
       "      <td>0.0</td>\n",
       "      <td>0.0</td>\n",
       "      <td>0.0</td>\n",
       "      <td>0.0</td>\n",
       "    </tr>\n",
       "    <tr>\n",
       "      <th>3</th>\n",
       "      <td>0.967136</td>\n",
       "      <td>1.000000</td>\n",
       "      <td>0.830986</td>\n",
       "      <td>0.586854</td>\n",
       "      <td>0.356808</td>\n",
       "      <td>0.248826</td>\n",
       "      <td>0.145540</td>\n",
       "      <td>0.089202</td>\n",
       "      <td>0.117371</td>\n",
       "      <td>0.150235</td>\n",
       "      <td>...</td>\n",
       "      <td>0.0</td>\n",
       "      <td>0.0</td>\n",
       "      <td>0.0</td>\n",
       "      <td>0.0</td>\n",
       "      <td>0.0</td>\n",
       "      <td>0.0</td>\n",
       "      <td>0.0</td>\n",
       "      <td>0.0</td>\n",
       "      <td>0.0</td>\n",
       "      <td>0.0</td>\n",
       "    </tr>\n",
       "    <tr>\n",
       "      <th>4</th>\n",
       "      <td>0.927461</td>\n",
       "      <td>1.000000</td>\n",
       "      <td>0.626943</td>\n",
       "      <td>0.193437</td>\n",
       "      <td>0.094991</td>\n",
       "      <td>0.072539</td>\n",
       "      <td>0.043178</td>\n",
       "      <td>0.053541</td>\n",
       "      <td>0.093264</td>\n",
       "      <td>0.189983</td>\n",
       "      <td>...</td>\n",
       "      <td>0.0</td>\n",
       "      <td>0.0</td>\n",
       "      <td>0.0</td>\n",
       "      <td>0.0</td>\n",
       "      <td>0.0</td>\n",
       "      <td>0.0</td>\n",
       "      <td>0.0</td>\n",
       "      <td>0.0</td>\n",
       "      <td>0.0</td>\n",
       "      <td>0.0</td>\n",
       "    </tr>\n",
       "    <tr>\n",
       "      <th>...</th>\n",
       "      <td>...</td>\n",
       "      <td>...</td>\n",
       "      <td>...</td>\n",
       "      <td>...</td>\n",
       "      <td>...</td>\n",
       "      <td>...</td>\n",
       "      <td>...</td>\n",
       "      <td>...</td>\n",
       "      <td>...</td>\n",
       "      <td>...</td>\n",
       "      <td>...</td>\n",
       "      <td>...</td>\n",
       "      <td>...</td>\n",
       "      <td>...</td>\n",
       "      <td>...</td>\n",
       "      <td>...</td>\n",
       "      <td>...</td>\n",
       "      <td>...</td>\n",
       "      <td>...</td>\n",
       "      <td>...</td>\n",
       "      <td>...</td>\n",
       "    </tr>\n",
       "    <tr>\n",
       "      <th>995</th>\n",
       "      <td>1.000000</td>\n",
       "      <td>0.756962</td>\n",
       "      <td>0.134177</td>\n",
       "      <td>0.000000</td>\n",
       "      <td>0.126582</td>\n",
       "      <td>0.189873</td>\n",
       "      <td>0.222785</td>\n",
       "      <td>0.212658</td>\n",
       "      <td>0.225316</td>\n",
       "      <td>0.205063</td>\n",
       "      <td>...</td>\n",
       "      <td>0.0</td>\n",
       "      <td>0.0</td>\n",
       "      <td>0.0</td>\n",
       "      <td>0.0</td>\n",
       "      <td>0.0</td>\n",
       "      <td>0.0</td>\n",
       "      <td>0.0</td>\n",
       "      <td>0.0</td>\n",
       "      <td>0.0</td>\n",
       "      <td>0.0</td>\n",
       "    </tr>\n",
       "    <tr>\n",
       "      <th>996</th>\n",
       "      <td>0.921756</td>\n",
       "      <td>1.000000</td>\n",
       "      <td>0.616412</td>\n",
       "      <td>0.185115</td>\n",
       "      <td>0.101145</td>\n",
       "      <td>0.074427</td>\n",
       "      <td>0.055344</td>\n",
       "      <td>0.057252</td>\n",
       "      <td>0.089695</td>\n",
       "      <td>0.167939</td>\n",
       "      <td>...</td>\n",
       "      <td>0.0</td>\n",
       "      <td>0.0</td>\n",
       "      <td>0.0</td>\n",
       "      <td>0.0</td>\n",
       "      <td>0.0</td>\n",
       "      <td>0.0</td>\n",
       "      <td>0.0</td>\n",
       "      <td>0.0</td>\n",
       "      <td>0.0</td>\n",
       "      <td>0.0</td>\n",
       "    </tr>\n",
       "    <tr>\n",
       "      <th>997</th>\n",
       "      <td>1.000000</td>\n",
       "      <td>0.783898</td>\n",
       "      <td>0.444915</td>\n",
       "      <td>0.088983</td>\n",
       "      <td>0.046610</td>\n",
       "      <td>0.135593</td>\n",
       "      <td>0.144068</td>\n",
       "      <td>0.139831</td>\n",
       "      <td>0.169492</td>\n",
       "      <td>0.165254</td>\n",
       "      <td>...</td>\n",
       "      <td>0.0</td>\n",
       "      <td>0.0</td>\n",
       "      <td>0.0</td>\n",
       "      <td>0.0</td>\n",
       "      <td>0.0</td>\n",
       "      <td>0.0</td>\n",
       "      <td>0.0</td>\n",
       "      <td>0.0</td>\n",
       "      <td>0.0</td>\n",
       "      <td>0.0</td>\n",
       "    </tr>\n",
       "    <tr>\n",
       "      <th>998</th>\n",
       "      <td>0.928571</td>\n",
       "      <td>0.732804</td>\n",
       "      <td>0.214286</td>\n",
       "      <td>0.000000</td>\n",
       "      <td>0.044974</td>\n",
       "      <td>0.076720</td>\n",
       "      <td>0.047619</td>\n",
       "      <td>0.060847</td>\n",
       "      <td>0.042328</td>\n",
       "      <td>0.058201</td>\n",
       "      <td>...</td>\n",
       "      <td>0.0</td>\n",
       "      <td>0.0</td>\n",
       "      <td>0.0</td>\n",
       "      <td>0.0</td>\n",
       "      <td>0.0</td>\n",
       "      <td>0.0</td>\n",
       "      <td>0.0</td>\n",
       "      <td>0.0</td>\n",
       "      <td>0.0</td>\n",
       "      <td>0.0</td>\n",
       "    </tr>\n",
       "    <tr>\n",
       "      <th>999</th>\n",
       "      <td>1.000000</td>\n",
       "      <td>0.987593</td>\n",
       "      <td>0.776675</td>\n",
       "      <td>0.302730</td>\n",
       "      <td>0.124069</td>\n",
       "      <td>0.208437</td>\n",
       "      <td>0.166253</td>\n",
       "      <td>0.101737</td>\n",
       "      <td>0.064516</td>\n",
       "      <td>0.076923</td>\n",
       "      <td>...</td>\n",
       "      <td>0.0</td>\n",
       "      <td>0.0</td>\n",
       "      <td>0.0</td>\n",
       "      <td>0.0</td>\n",
       "      <td>0.0</td>\n",
       "      <td>0.0</td>\n",
       "      <td>0.0</td>\n",
       "      <td>0.0</td>\n",
       "      <td>0.0</td>\n",
       "      <td>0.0</td>\n",
       "    </tr>\n",
       "  </tbody>\n",
       "</table>\n",
       "<p>1000 rows × 188 columns</p>\n",
       "</div>"
      ],
      "text/plain": [
       "     9.779411554336547852e-01  9.264705777168273926e-01  \\\n",
       "0                    0.960114                  0.863248   \n",
       "1                    1.000000                  0.659459   \n",
       "2                    0.925414                  0.665746   \n",
       "3                    0.967136                  1.000000   \n",
       "4                    0.927461                  1.000000   \n",
       "..                        ...                       ...   \n",
       "995                  1.000000                  0.756962   \n",
       "996                  0.921756                  1.000000   \n",
       "997                  1.000000                  0.783898   \n",
       "998                  0.928571                  0.732804   \n",
       "999                  1.000000                  0.987593   \n",
       "\n",
       "     6.813725233078002930e-01  2.450980395078659058e-01  \\\n",
       "0                    0.461538                  0.196581   \n",
       "1                    0.186486                  0.070270   \n",
       "2                    0.541436                  0.276243   \n",
       "3                    0.830986                  0.586854   \n",
       "4                    0.626943                  0.193437   \n",
       "..                        ...                       ...   \n",
       "995                  0.134177                  0.000000   \n",
       "996                  0.616412                  0.185115   \n",
       "997                  0.444915                  0.088983   \n",
       "998                  0.214286                  0.000000   \n",
       "999                  0.776675                  0.302730   \n",
       "\n",
       "     1.544117629528045654e-01  1.911764740943908691e-01  \\\n",
       "0                    0.094017                  0.125356   \n",
       "1                    0.070270                  0.059459   \n",
       "2                    0.196133                  0.077348   \n",
       "3                    0.356808                  0.248826   \n",
       "4                    0.094991                  0.072539   \n",
       "..                        ...                       ...   \n",
       "995                  0.126582                  0.189873   \n",
       "996                  0.101145                  0.074427   \n",
       "997                  0.046610                  0.135593   \n",
       "998                  0.044974                  0.076720   \n",
       "999                  0.124069                  0.208437   \n",
       "\n",
       "     1.519607901573181152e-01  8.578431606292724609e-02  \\\n",
       "0                    0.099715                  0.088319   \n",
       "1                    0.056757                  0.043243   \n",
       "2                    0.071823                  0.060773   \n",
       "3                    0.145540                  0.089202   \n",
       "4                    0.043178                  0.053541   \n",
       "..                        ...                       ...   \n",
       "995                  0.222785                  0.212658   \n",
       "996                  0.055344                  0.057252   \n",
       "997                  0.144068                  0.139831   \n",
       "998                  0.047619                  0.060847   \n",
       "999                  0.166253                  0.101737   \n",
       "\n",
       "     5.882352963089942932e-02  4.901960864663124084e-02  ...  \\\n",
       "0                    0.074074                  0.082621  ...   \n",
       "1                    0.054054                  0.045946  ...   \n",
       "2                    0.066298                  0.058011  ...   \n",
       "3                    0.117371                  0.150235  ...   \n",
       "4                    0.093264                  0.189983  ...   \n",
       "..                        ...                       ...  ...   \n",
       "995                  0.225316                  0.205063  ...   \n",
       "996                  0.089695                  0.167939  ...   \n",
       "997                  0.169492                  0.165254  ...   \n",
       "998                  0.042328                  0.058201  ...   \n",
       "999                  0.064516                  0.076923  ...   \n",
       "\n",
       "     0.000000000000000000e+00.79  0.000000000000000000e+00.80  \\\n",
       "0                            0.0                          0.0   \n",
       "1                            0.0                          0.0   \n",
       "2                            0.0                          0.0   \n",
       "3                            0.0                          0.0   \n",
       "4                            0.0                          0.0   \n",
       "..                           ...                          ...   \n",
       "995                          0.0                          0.0   \n",
       "996                          0.0                          0.0   \n",
       "997                          0.0                          0.0   \n",
       "998                          0.0                          0.0   \n",
       "999                          0.0                          0.0   \n",
       "\n",
       "     0.000000000000000000e+00.81  0.000000000000000000e+00.82  \\\n",
       "0                            0.0                          0.0   \n",
       "1                            0.0                          0.0   \n",
       "2                            0.0                          0.0   \n",
       "3                            0.0                          0.0   \n",
       "4                            0.0                          0.0   \n",
       "..                           ...                          ...   \n",
       "995                          0.0                          0.0   \n",
       "996                          0.0                          0.0   \n",
       "997                          0.0                          0.0   \n",
       "998                          0.0                          0.0   \n",
       "999                          0.0                          0.0   \n",
       "\n",
       "     0.000000000000000000e+00.83  0.000000000000000000e+00.84  \\\n",
       "0                            0.0                          0.0   \n",
       "1                            0.0                          0.0   \n",
       "2                            0.0                          0.0   \n",
       "3                            0.0                          0.0   \n",
       "4                            0.0                          0.0   \n",
       "..                           ...                          ...   \n",
       "995                          0.0                          0.0   \n",
       "996                          0.0                          0.0   \n",
       "997                          0.0                          0.0   \n",
       "998                          0.0                          0.0   \n",
       "999                          0.0                          0.0   \n",
       "\n",
       "     0.000000000000000000e+00.85  0.000000000000000000e+00.86  \\\n",
       "0                            0.0                          0.0   \n",
       "1                            0.0                          0.0   \n",
       "2                            0.0                          0.0   \n",
       "3                            0.0                          0.0   \n",
       "4                            0.0                          0.0   \n",
       "..                           ...                          ...   \n",
       "995                          0.0                          0.0   \n",
       "996                          0.0                          0.0   \n",
       "997                          0.0                          0.0   \n",
       "998                          0.0                          0.0   \n",
       "999                          0.0                          0.0   \n",
       "\n",
       "     0.000000000000000000e+00.87  0.000000000000000000e+00.88  \n",
       "0                            0.0                          0.0  \n",
       "1                            0.0                          0.0  \n",
       "2                            0.0                          0.0  \n",
       "3                            0.0                          0.0  \n",
       "4                            0.0                          0.0  \n",
       "..                           ...                          ...  \n",
       "995                          0.0                          0.0  \n",
       "996                          0.0                          0.0  \n",
       "997                          0.0                          0.0  \n",
       "998                          0.0                          0.0  \n",
       "999                          0.0                          0.0  \n",
       "\n",
       "[1000 rows x 188 columns]"
      ]
     },
     "execution_count": 3,
     "metadata": {},
     "output_type": "execute_result"
    }
   ],
   "source": [
    "df1"
   ]
  },
  {
   "cell_type": "markdown",
   "id": "0ed6fe94",
   "metadata": {},
   "source": [
    "# For Corelation in Train Data"
   ]
  },
  {
   "cell_type": "code",
   "execution_count": 18,
   "id": "ce97f0e4",
   "metadata": {},
   "outputs": [],
   "source": [
    "filename1 = df1\n",
    "filename11 = 'mitbih_train.csv'\n",
    "df1 = df1.dropna('columns') # drop columns with NaN\n",
    "df1 = df1[[col for col in df1 if df1[col].nunique() > 1]] # keep columns where there are more than 1 unique values\n",
    "if df1.shape[1] < 2:\n",
    "    print(f'No correlation plots shown: The number of non-NaN or constant columns ({df1.shape[1]}) is less than 2')"
   ]
  },
  {
   "cell_type": "code",
   "execution_count": 19,
   "id": "2fc300ef",
   "metadata": {},
   "outputs": [],
   "source": [
    "corr1 = df1.corr()"
   ]
  },
  {
   "cell_type": "code",
   "execution_count": 20,
   "id": "135f8952",
   "metadata": {},
   "outputs": [
    {
     "data": {
      "image/png": "[encoded data removed]",
      "text/plain": [
       "<Figure size 2000x2000 with 2 Axes>"
      ]
     },
     "metadata": {},
     "output_type": "display_data"
    }
   ],
   "source": [
    "plt.figure(num=None, figsize=(25, 25), dpi=80, facecolor='w', edgecolor='k')\n",
    "corrMat1 = plt.matshow(corr1, fignum = 1)\n",
    "plt.xticks(range(len(corr1.columns)), corr1.columns, rotation=90)\n",
    "plt.yticks(range(len(corr1.columns)), corr1.columns)\n",
    "plt.gca().xaxis.tick_bottom()\n",
    "plt.colorbar(corrMat1)\n",
    "plt.title(f'Correlation Matrix for {filename11}', fontsize=15)\n",
    "plt.show();"
   ]
  },
  {
   "cell_type": "markdown",
   "id": "7e840163",
   "metadata": {},
   "source": [
    "# Plot per Column Distribution for Train data"
   ]
  },
  {
   "cell_type": "code",
   "execution_count": 7,
   "id": "5710063f",
   "metadata": {},
   "outputs": [],
   "source": [
    "nunique1 = df1.nunique()"
   ]
  },
  {
   "cell_type": "code",
   "execution_count": 8,
   "id": "601bdfb6",
   "metadata": {},
   "outputs": [],
   "source": [
    "df1 = df1[[col for col in df1 if nunique1[col] > 1 and nunique1[col] < 50]]"
   ]
  },
  {
   "cell_type": "code",
   "execution_count": 9,
   "id": "bd588492",
   "metadata": {},
   "outputs": [],
   "source": [
    "nRow, nCol = df1.shape\n",
    "columnNames = list(df1)\n",
    "nGraphPerRow = 5\n",
    "nGraphShown = 20"
   ]
  },
  {
   "cell_type": "code",
   "execution_count": 10,
   "id": "55a78661",
   "metadata": {},
   "outputs": [
    {
     "name": "stderr",
     "output_type": "stream",
     "text": [
      "<ipython-input-10-79ac29e933df>:4: MatplotlibDeprecationWarning: Passing non-integers as three-element position specification is deprecated since 3.3 and will be removed two minor releases later.\n",
      "  plt.subplot(nGraphRow, nGraphPerRow, i + 1)\n"
     ]
    },
    {
     "ename": "NameError",
     "evalue": "name 'df' is not defined",
     "output_type": "error",
     "traceback": [
      "\u001b[1;31m---------------------------------------------------------------------------\u001b[0m",
      "\u001b[1;31mNameError\u001b[0m                                 Traceback (most recent call last)",
      "\u001b[1;32m<ipython-input-10-79ac29e933df>\u001b[0m in \u001b[0;36m<module>\u001b[1;34m\u001b[0m\n\u001b[0;32m      3\u001b[0m \u001b[1;32mfor\u001b[0m \u001b[0mi\u001b[0m \u001b[1;32min\u001b[0m \u001b[0mrange\u001b[0m\u001b[1;33m(\u001b[0m\u001b[0mmin\u001b[0m\u001b[1;33m(\u001b[0m\u001b[0mnCol\u001b[0m\u001b[1;33m,\u001b[0m \u001b[0mnGraphShown\u001b[0m\u001b[1;33m)\u001b[0m\u001b[1;33m)\u001b[0m\u001b[1;33m:\u001b[0m\u001b[1;33m\u001b[0m\u001b[1;33m\u001b[0m\u001b[0m\n\u001b[0;32m      4\u001b[0m     \u001b[0mplt\u001b[0m\u001b[1;33m.\u001b[0m\u001b[0msubplot\u001b[0m\u001b[1;33m(\u001b[0m\u001b[0mnGraphRow\u001b[0m\u001b[1;33m,\u001b[0m \u001b[0mnGraphPerRow\u001b[0m\u001b[1;33m,\u001b[0m \u001b[0mi\u001b[0m \u001b[1;33m+\u001b[0m \u001b[1;36m1\u001b[0m\u001b[1;33m)\u001b[0m\u001b[1;33m\u001b[0m\u001b[1;33m\u001b[0m\u001b[0m\n\u001b[1;32m----> 5\u001b[1;33m     \u001b[0mcolumnDf\u001b[0m \u001b[1;33m=\u001b[0m \u001b[0mdf\u001b[0m\u001b[1;33m.\u001b[0m\u001b[0miloc\u001b[0m\u001b[1;33m[\u001b[0m\u001b[1;33m:\u001b[0m\u001b[1;33m,\u001b[0m \u001b[0mi\u001b[0m\u001b[1;33m]\u001b[0m\u001b[1;33m\u001b[0m\u001b[1;33m\u001b[0m\u001b[0m\n\u001b[0m\u001b[0;32m      6\u001b[0m     \u001b[1;32mif\u001b[0m \u001b[1;33m(\u001b[0m\u001b[1;32mnot\u001b[0m \u001b[0mnp\u001b[0m\u001b[1;33m.\u001b[0m\u001b[0missubdtype\u001b[0m\u001b[1;33m(\u001b[0m\u001b[0mtype\u001b[0m\u001b[1;33m(\u001b[0m\u001b[0mcolumnDf\u001b[0m\u001b[1;33m.\u001b[0m\u001b[0miloc\u001b[0m\u001b[1;33m[\u001b[0m\u001b[1;36m0\u001b[0m\u001b[1;33m]\u001b[0m\u001b[1;33m)\u001b[0m\u001b[1;33m,\u001b[0m \u001b[0mnp\u001b[0m\u001b[1;33m.\u001b[0m\u001b[0mnumber\u001b[0m\u001b[1;33m)\u001b[0m\u001b[1;33m)\u001b[0m\u001b[1;33m:\u001b[0m\u001b[1;33m\u001b[0m\u001b[1;33m\u001b[0m\u001b[0m\n\u001b[0;32m      7\u001b[0m         \u001b[0mvalueCounts\u001b[0m \u001b[1;33m=\u001b[0m \u001b[0mcolumnDf\u001b[0m\u001b[1;33m.\u001b[0m\u001b[0mvalue_counts\u001b[0m\u001b[1;33m(\u001b[0m\u001b[1;33m)\u001b[0m\u001b[1;33m\u001b[0m\u001b[1;33m\u001b[0m\u001b[0m\n",
      "\u001b[1;31mNameError\u001b[0m: name 'df' is not defined"
     ]
    },
    {
     "data": {
      "image/png": "[encoded data removed]",
      "text/plain": [
       "<Figure size 2400x3584 with 1 Axes>"
      ]
     },
     "metadata": {},
     "output_type": "display_data"
    }
   ],
   "source": [
    "nGraphRow = (nCol + nGraphPerRow - 1) / nGraphPerRow\n",
    "plt.figure(num = None, figsize = (6 * nGraphPerRow, 8 * nGraphRow), dpi = 80, facecolor = 'w', edgecolor = 'k')\n",
    "for i in range(min(nCol, nGraphShown)):\n",
    "    plt.subplot(nGraphRow, nGraphPerRow, i + 1)\n",
    "    columnDf = df.iloc[:, i]\n",
    "    if (not np.issubdtype(type(columnDf.iloc[0]), np.number)):\n",
    "        valueCounts = columnDf.value_counts()\n",
    "        valueCounts.plot.bar()\n",
    "    else:\n",
    "        columnDf.hist()\n",
    "    plt.ylabel('counts')\n",
    "    plt.xticks(rotation = 90)\n",
    "    plt.title(f'{columnNames[i]} (column {i})')\n",
    "plt.tight_layout(pad = 1.0, w_pad = 1.0, h_pad = 1.0)\n",
    "plt.show()"
   ]
  },
  {
   "cell_type": "markdown",
   "id": "c0e683ff",
   "metadata": {},
   "source": [
    "# Plot Scatter Matrix"
   ]
  },
  {
   "cell_type": "code",
   "execution_count": null,
   "id": "123516e9",
   "metadata": {},
   "outputs": [],
   "source": [
    "df1 = df1.select_dtypes(include =[np.number]) # keep only numerical columns\n"
   ]
  },
  {
   "cell_type": "code",
   "execution_count": null,
   "id": "7c8b5e7c",
   "metadata": {},
   "outputs": [],
   "source": [
    "# Remove rows and columns that would lead to df being singular\n",
    "df1 = df1.dropna('columns')\n",
    "df1 = df1[[col for col in df1 if df1[col].nunique() > 1]] # keep columns where there are more than 1 unique values"
   ]
  },
  {
   "cell_type": "code",
   "execution_count": null,
   "id": "a910923b",
   "metadata": {},
   "outputs": [],
   "source": [
    "columnNames1 = list(df1)\n",
    "if len(columnNames1) > 10: # reduce the number of columns for matrix inversion of kernel density plots\n",
    "    columnNames1 = columnNames1[:10]\n",
    "df1 = df1[columnNames1]"
   ]
  },
  {
   "cell_type": "code",
   "execution_count": null,
   "id": "23584b6e",
   "metadata": {},
   "outputs": [],
   "source": [
    "ax1 = pd.plotting.scatter_matrix(df1, alpha=0.75, figsize=[20, 20], diagonal='kde')\n",
    "corrs1 = df.corr().values\n",
    "\n",
    "for i, j in zip(*plt.np.triu_indices_from(ax, k = 1)):\n",
    "    ax1[i, j].annotate('Corr. coef = %.3f' % corrs1[i, j], (0.8, 0.2), xycoords='axes fraction', ha='center', va='center', size=5)\n",
    "plt.suptitle('Scatter and Density Plot')\n",
    "plt.show()"
   ]
  },
  {
   "cell_type": "code",
   "execution_count": null,
   "id": "c5a03916",
   "metadata": {},
   "outputs": [],
   "source": []
  },
  {
   "cell_type": "code",
   "execution_count": null,
   "id": "dd72c828",
   "metadata": {},
   "outputs": [],
   "source": []
  },
  {
   "cell_type": "markdown",
   "id": "f893c659",
   "metadata": {},
   "source": [
    "# Test data"
   ]
  },
  {
   "cell_type": "code",
   "execution_count": null,
   "id": "2a55153b",
   "metadata": {},
   "outputs": [],
   "source": [
    "nRowsRead = 1000 # specify 'None' if want to read whole file\n",
    "# mitbih_train.csv may have more rows in reality, but we are only loading/previewing the first 1000 rows\n",
    "df2 = pd.read_csv('mitbih_test.csv', delimiter=',', nrows = nRowsRead)\n",
    "df2.dataframeName = 'mitbih_test.csv'\n",
    "nRow2, nCol2 = df2.shape\n",
    "print(f'There are {nRow2} rows and {nCol2} columns')"
   ]
  },
  {
   "cell_type": "code",
   "execution_count": null,
   "id": "c8acd9bc",
   "metadata": {},
   "outputs": [],
   "source": [
    "df2"
   ]
  },
  {
   "cell_type": "markdown",
   "id": "23b405cd",
   "metadata": {},
   "source": [
    "# For Corelation in Test Data"
   ]
  },
  {
   "cell_type": "code",
   "execution_count": null,
   "id": "30a21125",
   "metadata": {},
   "outputs": [],
   "source": [
    "filename2 = df2\n",
    "filename22 = 'mitbih_train.csv'\n",
    "df2 = df2.dropna('columns') # drop columns with NaN\n",
    "df2 = df2[[col for col in df2 if df2[col].nunique() > 1]] # keep columns where there are more than 1 unique values\n",
    "if df2.shape[1] < 2:\n",
    "    print(f'No correlation plots shown: The number of non-NaN or constant columns ({df2.shape[1]}) is less than 2')"
   ]
  },
  {
   "cell_type": "code",
   "execution_count": null,
   "id": "bf6e4403",
   "metadata": {},
   "outputs": [],
   "source": [
    "corr2 = df2.corr()"
   ]
  },
  {
   "cell_type": "code",
   "execution_count": null,
   "id": "ef9f3a46",
   "metadata": {},
   "outputs": [],
   "source": [
    "plt.figure(num=None, figsize=(25, 25), dpi=80, facecolor='w', edgecolor='k')\n",
    "corrMat2 = plt.matshow(corr2, fignum = 1)\n",
    "plt.xticks(range(len(corr2.columns)), corr2.columns, rotation=90)\n",
    "plt.yticks(range(len(corr2.columns)), corr2.columns)\n",
    "plt.gca().xaxis.tick_bottom()\n",
    "plt.colorbar(corrMat2)\n",
    "plt.title(f'Correlation Matrix for {filename2}', fontsize=15)\n",
    "plt.show()"
   ]
  },
  {
   "cell_type": "markdown",
   "id": "73c70a00",
   "metadata": {},
   "source": [
    "# Plot per Column Distribution for Test data"
   ]
  },
  {
   "cell_type": "code",
   "execution_count": null,
   "id": "1ee09219",
   "metadata": {},
   "outputs": [],
   "source": [
    "nunique2 = df2.nunique()"
   ]
  },
  {
   "cell_type": "code",
   "execution_count": null,
   "id": "15800f7f",
   "metadata": {},
   "outputs": [],
   "source": [
    "df2 = df2[[col for col in df2 if nunique2[col] > 1 and nunique2[col] < 50]]"
   ]
  },
  {
   "cell_type": "code",
   "execution_count": null,
   "id": "3fca6705",
   "metadata": {},
   "outputs": [],
   "source": [
    "nRow2, nCol2 = df2.shape\n",
    "columnNames2 = list(df2)\n",
    "nGraphPerRow2 = 5\n",
    "nGraphShown2 = 20"
   ]
  },
  {
   "cell_type": "code",
   "execution_count": null,
   "id": "21101590",
   "metadata": {},
   "outputs": [],
   "source": [
    "nGraphRow2 = (nCol2 + nGraphPerRow2 - 1) / nGraphPerRow2\n",
    "plt.figure(num = None, figsize = (6 * nGraphPerRow2, 8 * nGraphRow2), dpi = 80, facecolor = 'w', edgecolor = 'k')\n",
    "for j in range(min(nCol2, nGraphShown2)):\n",
    "    plt.subplot(nGraphRow2, nGraphPerRow2, j + 1)\n",
    "    columnDf2 = df2.iloc[:, i]\n",
    "    if (not np.issubdtype(type(columnDf2.iloc[0]), np.number)):\n",
    "        valueCounts2 = columnDf2.value_counts()\n",
    "        valueCount2s.plot.bar()\n",
    "    else:\n",
    "        columnDf2.hist()\n",
    "    plt.ylabel('counts')\n",
    "    plt.xticks(rotation = 90)\n",
    "    plt.title(f'{columnNames[j]} (column {j})')\n",
    "plt.tight_layout(pad = 1.0, w_pad = 1.0, h_pad = 1.0)\n",
    "plt.show()"
   ]
  },
  {
   "cell_type": "markdown",
   "id": "f5ae05b1",
   "metadata": {},
   "source": [
    "# Plot per Column Distribution for Test data"
   ]
  },
  {
   "cell_type": "code",
   "execution_count": null,
   "id": "70fa229b",
   "metadata": {},
   "outputs": [],
   "source": [
    "df2 = df2.select_dtypes(include =[np.number]) # keep only numerical columns"
   ]
  },
  {
   "cell_type": "code",
   "execution_count": null,
   "id": "dd775ec1",
   "metadata": {},
   "outputs": [],
   "source": [
    "# Remove rows and columns that would lead to df being singular\n",
    "df2 = df2.dropna('columns')\n",
    "df2 = df2[[col for col in df2 if df2[col].nunique() > 1]] # keep columns where there are more than 1 unique values"
   ]
  },
  {
   "cell_type": "code",
   "execution_count": null,
   "id": "a50e4018",
   "metadata": {},
   "outputs": [],
   "source": [
    "columnNames2 = list(df2)\n",
    "if len(columnNames2) > 10: # reduce the number of columns for matrix inversion of kernel density plots\n",
    "    columnNames2 = columnNames2[:10]\n",
    "df2 = df2[columnNames2]"
   ]
  },
  {
   "cell_type": "code",
   "execution_count": null,
   "id": "d66ec853",
   "metadata": {},
   "outputs": [],
   "source": [
    "ax2 = pd.plotting.scatter_matrix(df2, alpha=0.75, figsize=[20, 20], diagonal='kde')\n",
    "corrs2 = df.corr().values\n",
    "\n",
    "for i, j in zip(*plt.np.triu_indices_from(ax2, k = 1)):\n",
    "    ax2[i, j].annotate('Corr. coef = %.3f' % corrs2[i, j], (0.8, 0.2), xycoords='axes fraction', ha='center', va='center', size=5)\n",
    "plt.suptitle('Scatter and Density Plot')\n",
    "plt.show()"
   ]
  },
  {
   "cell_type": "code",
   "execution_count": null,
   "id": "2eac4b47",
   "metadata": {},
   "outputs": [],
   "source": []
  }
 ],
 "metadata": {
  "kernelspec": {
   "display_name": "Python 3",
   "language": "python",
   "name": "python3"
  },
  "language_info": {
   "codemirror_mode": {
    "name": "ipython",
    "version": 3
   },
   "file_extension": ".py",
   "mimetype": "text/x-python",
   "name": "python",
   "nbconvert_exporter": "python",
   "pygments_lexer": "ipython3",
   "version": "3.8.8"
  }
 },
 "nbformat": 4,
 "nbformat_minor": 5
}
